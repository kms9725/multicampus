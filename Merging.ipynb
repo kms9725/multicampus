{
 "cells": [
  {
   "cell_type": "markdown",
   "metadata": {},
   "source": [
    "# MERGING"
   ]
  },
  {
   "cell_type": "code",
   "execution_count": 2,
   "metadata": {},
   "outputs": [
    {
     "name": "stdout",
     "output_type": "stream",
     "text": [
      "['olist_sellers_dataset.csv', 'product_category_name_translation.csv', 'olist_orders_dataset.csv', 'olist_order_items_dataset.csv', 'olist_customers_dataset.csv', 'olist_geolocation_dataset.csv', 'olist_order_payments_dataset.csv', 'olist_order_reviews_dataset.csv', 'olist_products_dataset.csv']\n"
     ]
    }
   ],
   "source": [
    "import pandas as pd\n",
    "import os\n",
    "\n",
    "## data 자료 형태 파악하기\n",
    "dir = \"./data/\" # 현재 디렉토리의 data 파일 안에 csv파일들 들어있으므로 편의상 변수로 지정\n",
    "\n",
    "DIVIDER = '\\n----------------------------------------------------------------\\n' # 프린트했을 때 보기 편하게 선 긋기\n",
    "listdir = [f for f in os.listdir(dir) if not f.startswith('.')]\n",
    "print(listdir) # 현재 디렉토리의 data 파일 안에 있는 파일명 확인"
   ]
  },
  {
   "cell_type": "code",
   "execution_count": 6,
   "metadata": {},
   "outputs": [],
   "source": [
    "## 9개 csv파일 데이터 읽기\n",
    "cust = pd.read_csv(dir + 'olist_customers_dataset.csv')\n",
    "geoloc = pd.read_csv(dir + 'olist_geolocation_dataset.csv')\n",
    "order_items = pd.read_csv(dir + 'olist_order_items_dataset.csv')\n",
    "payments = pd.read_csv(dir + 'olist_order_payments_dataset.csv')\n",
    "reviews = pd.read_csv(dir + 'olist_order_reviews_dataset.csv')\n",
    "orders = pd.read_csv(dir + 'olist_orders_dataset.csv')\n",
    "products = pd.read_csv(dir + 'olist_products_dataset.csv')\n",
    "sellers = pd.read_csv(dir + 'olist_sellers_dataset.csv')\n",
    "translation = pd.read_csv(dir + 'product_category_name_translation.csv')\n",
    "\n"
   ]
  },
  {
   "cell_type": "markdown",
   "metadata": {},
   "source": [
    "## 물품카테고리명은 영어로 미리 변경"
   ]
  },
  {
   "cell_type": "code",
   "execution_count": 7,
   "metadata": {},
   "outputs": [],
   "source": [
    "products = products.merge(translation, on='product_category_name').drop('product_category_name', axis=1)"
   ]
  },
  {
   "cell_type": "markdown",
   "metadata": {},
   "source": [
    "## 각각 merging"
   ]
  },
  {
   "cell_type": "code",
   "execution_count": 8,
   "metadata": {},
   "outputs": [],
   "source": [
    "\n",
    "\n",
    "total_df = pd.merge(orders, order_items, on='order_id')\n",
    "total_df = pd.merge(total_df, payments, on='order_id')\n",
    "total_df = pd.merge(total_df, reviews, on='order_id')\n",
    "total_df = pd.merge(total_df, cust, on='customer_id')\n",
    "total_df = pd.merge(total_df, products, on='product_id')\n",
    "total_df = pd.merge(total_df, sellers, on='seller_id')\n",
    "#total_df = pd.merge(total_df, geoloc, how='left',left_on='customer_zip_code_prefix',right_on='geolocation_zip_code_prefix')\n"
   ]
  },
  {
   "cell_type": "markdown",
   "metadata": {},
   "source": [
    "## geolocation을 customer, seller 두가지와 각각 JOIN"
   ]
  },
  {
   "cell_type": "markdown",
   "metadata": {},
   "source": [
    "### state city 이름 cleaning"
   ]
  },
  {
   "cell_type": "code",
   "execution_count": 9,
   "metadata": {},
   "outputs": [
    {
     "name": "stdout",
     "output_type": "stream",
     "text": [
      "Missing rows in geolocation_state : 0\n",
      "Missing rows in geolocation_lat : 0\n",
      "Missing rows in geolocation_lng : 0\n",
      "Missing rows in state : 0\n"
     ]
    }
   ],
   "source": [
    "## geolocation dataset과 join\n",
    "total_df['customer_state'] = total_df['customer_state'].apply(lambda x : x.lower())\n",
    "total_df['customer_city'] = total_df['customer_city'].apply(lambda x : x.lower())\n",
    "total_df['seller_state'] = total_df['seller_state'].apply(lambda x : x.lower())\n",
    "total_df['seller_city'] = total_df['seller_city'].apply(lambda x : x.lower())\n",
    "geo_state = geoloc.groupby('geolocation_state')['geolocation_lat','geolocation_lng'].mean().reset_index()\n",
    "geo_state['state'] = geo_state['geolocation_state'].apply(lambda x : x.lower())\n",
    "geo_city = geoloc.groupby('geolocation_city')['geolocation_lat','geolocation_lng'].mean().reset_index()\n",
    "geo_city['city'] = geo_city['geolocation_city'].apply(lambda x : x.lower())\n",
    "\n",
    "geo_city.rename(columns={'geolocation_lat': 'c_lat','geolocation_lng':'c_lng'}, inplace=True)\n",
    "\n",
    "missing_geo = geo_state.isnull().sum()\n",
    "for i in range(len(missing_geo)):\n",
    "    print(\"Missing rows in {} : {}\".format(missing_geo.index[i], missing_geo.values[i]))\n"
   ]
  },
  {
   "cell_type": "markdown",
   "metadata": {},
   "source": [
    "### customer 와 join"
   ]
  },
  {
   "cell_type": "code",
   "execution_count": null,
   "metadata": {},
   "outputs": [],
   "source": [
    "\n",
    "total_df = pd.merge(total_df, geo_state, how='left', left_on='customer_state',right_on='state')\n",
    "total_df = pd.merge(total_df, geo_city, how='left',left_on='customer_city',right_on='city')\n"
   ]
  },
  {
   "cell_type": "markdown",
   "metadata": {},
   "source": [
    "### seller와 join"
   ]
  },
  {
   "cell_type": "code",
   "execution_count": 10,
   "metadata": {},
   "outputs": [],
   "source": [
    "\n",
    "total_df = pd.merge(total_df, geo_state, how='left', left_on='seller_state',right_on='state')\n",
    "total_df = pd.merge(total_df, geo_city, how='left',left_on='seller_city',right_on='city')\n"
   ]
  },
  {
   "cell_type": "markdown",
   "metadata": {},
   "source": [
    "### csv로 저장"
   ]
  },
  {
   "cell_type": "code",
   "execution_count": 11,
   "metadata": {},
   "outputs": [
    {
     "name": "stdout",
     "output_type": "stream",
     "text": [
      "                           order_id                       customer_id  \\\n",
      "0  e481f51cbdc54678b7cc49136f2d6af7  9ef432eb6251297304e76186b10a928d   \n",
      "1  e481f51cbdc54678b7cc49136f2d6af7  9ef432eb6251297304e76186b10a928d   \n",
      "2  e481f51cbdc54678b7cc49136f2d6af7  9ef432eb6251297304e76186b10a928d   \n",
      "3  128e10d95713541c87cd1a2e48201934  a20e8105f23924cd00833fd87daa0831   \n",
      "4  0e7e841ddf8f8f2de2bad69267ecfbcf  26c7ac168e1433912a51b924fbd34d34   \n",
      "\n",
      "  order_status order_purchase_timestamp    order_approved_at  \\\n",
      "0    delivered      2017-10-02 10:56:33  2017-10-02 11:07:15   \n",
      "1    delivered      2017-10-02 10:56:33  2017-10-02 11:07:15   \n",
      "2    delivered      2017-10-02 10:56:33  2017-10-02 11:07:15   \n",
      "3    delivered      2017-08-15 18:29:31  2017-08-15 20:05:16   \n",
      "4    delivered      2017-08-02 18:24:47  2017-08-02 18:43:15   \n",
      "\n",
      "  order_delivered_carrier_date order_delivered_customer_date  \\\n",
      "0          2017-10-04 19:55:00           2017-10-10 21:25:13   \n",
      "1          2017-10-04 19:55:00           2017-10-10 21:25:13   \n",
      "2          2017-10-04 19:55:00           2017-10-10 21:25:13   \n",
      "3          2017-08-17 15:28:33           2017-08-18 14:44:43   \n",
      "4          2017-08-04 17:35:43           2017-08-07 18:30:01   \n",
      "\n",
      "  order_estimated_delivery_date  order_item_id  \\\n",
      "0           2017-10-18 00:00:00              1   \n",
      "1           2017-10-18 00:00:00              1   \n",
      "2           2017-10-18 00:00:00              1   \n",
      "3           2017-08-28 00:00:00              1   \n",
      "4           2017-08-15 00:00:00              1   \n",
      "\n",
      "                         product_id  ...  seller_city seller_state  \\\n",
      "0  87285b34884572647811a353c7ac498a  ...         maua           sp   \n",
      "1  87285b34884572647811a353c7ac498a  ...         maua           sp   \n",
      "2  87285b34884572647811a353c7ac498a  ...         maua           sp   \n",
      "3  87285b34884572647811a353c7ac498a  ...         maua           sp   \n",
      "4  87285b34884572647811a353c7ac498a  ...         maua           sp   \n",
      "\n",
      "   geolocation_state  geolocation_lat  geolocation_lng state  \\\n",
      "0                 SP       -23.155308       -47.084074    sp   \n",
      "1                 SP       -23.155308       -47.084074    sp   \n",
      "2                 SP       -23.155308       -47.084074    sp   \n",
      "3                 SP       -23.155308       -47.084074    sp   \n",
      "4                 SP       -23.155308       -47.084074    sp   \n",
      "\n",
      "   geolocation_city      c_lat      c_lng  city  \n",
      "0              maua -23.669994 -46.448909  maua  \n",
      "1              maua -23.669994 -46.448909  maua  \n",
      "2              maua -23.669994 -46.448909  maua  \n",
      "3              maua -23.669994 -46.448909  maua  \n",
      "4              maua -23.669994 -46.448909  maua  \n",
      "\n",
      "[5 rows x 47 columns]\n",
      "<class 'pandas.core.frame.DataFrame'>\n",
      "Int64Index: 116581 entries, 0 to 116580\n",
      "Data columns (total 47 columns):\n",
      "order_id                         116581 non-null object\n",
      "customer_id                      116581 non-null object\n",
      "order_status                     116581 non-null object\n",
      "order_purchase_timestamp         116581 non-null object\n",
      "order_approved_at                116567 non-null object\n",
      "order_delivered_carrier_date     115368 non-null object\n",
      "order_delivered_customer_date    114066 non-null object\n",
      "order_estimated_delivery_date    116581 non-null object\n",
      "order_item_id                    116581 non-null int64\n",
      "product_id                       116581 non-null object\n",
      "seller_id                        116581 non-null object\n",
      "shipping_limit_date              116581 non-null object\n",
      "price                            116581 non-null float64\n",
      "freight_value                    116581 non-null float64\n",
      "payment_sequential               116581 non-null int64\n",
      "payment_type                     116581 non-null object\n",
      "payment_installments             116581 non-null int64\n",
      "payment_value                    116581 non-null float64\n",
      "review_id                        116581 non-null object\n",
      "review_score                     116581 non-null int64\n",
      "review_comment_title             13996 non-null object\n",
      "review_comment_message           49878 non-null object\n",
      "review_creation_date             116581 non-null object\n",
      "review_answer_timestamp          116581 non-null object\n",
      "customer_unique_id               116581 non-null object\n",
      "customer_zip_code_prefix         116581 non-null int64\n",
      "customer_city                    116581 non-null object\n",
      "customer_state                   116581 non-null object\n",
      "product_name_lenght              116581 non-null float64\n",
      "product_description_lenght       116581 non-null float64\n",
      "product_photos_qty               116581 non-null float64\n",
      "product_weight_g                 116580 non-null float64\n",
      "product_length_cm                116580 non-null float64\n",
      "product_height_cm                116580 non-null float64\n",
      "product_width_cm                 116580 non-null float64\n",
      "product_category_name_english    116581 non-null object\n",
      "seller_zip_code_prefix           116581 non-null int64\n",
      "seller_city                      116581 non-null object\n",
      "seller_state                     116581 non-null object\n",
      "geolocation_state                116581 non-null object\n",
      "geolocation_lat                  116581 non-null float64\n",
      "geolocation_lng                  116581 non-null float64\n",
      "state                            116581 non-null object\n",
      "geolocation_city                 114877 non-null object\n",
      "c_lat                            114877 non-null float64\n",
      "c_lng                            114877 non-null float64\n",
      "city                             114877 non-null object\n",
      "dtypes: float64(14), int64(6), object(27)\n",
      "memory usage: 42.7+ MB\n"
     ]
    }
   ],
   "source": [
    "print(total_df.head())\n",
    "total_df.info()\n",
    "total_df.to_csv('total_df.csv')"
   ]
  },
  {
   "cell_type": "code",
   "execution_count": null,
   "metadata": {},
   "outputs": [],
   "source": []
  }
 ],
 "metadata": {
  "kernelspec": {
   "display_name": "Python 3",
   "language": "python",
   "name": "python3"
  },
  "language_info": {
   "codemirror_mode": {
    "name": "ipython",
    "version": 3
   },
   "file_extension": ".py",
   "mimetype": "text/x-python",
   "name": "python",
   "nbconvert_exporter": "python",
   "pygments_lexer": "ipython3",
   "version": "3.6.6"
  }
 },
 "nbformat": 4,
 "nbformat_minor": 2
}
